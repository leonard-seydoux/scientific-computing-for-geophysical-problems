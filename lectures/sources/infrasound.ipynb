{
 "cells": [
  {
   "cell_type": "markdown",
   "metadata": {},
   "source": [
    "# Seismograms examples for the slides"
   ]
  },
  {
   "cell_type": "code",
   "execution_count": 10,
   "metadata": {},
   "outputs": [
    {
     "ename": "ValueError",
     "evalue": "The current client does not have a dataselect service.",
     "output_type": "error",
     "traceback": [
      "\u001b[0;31m---------------------------------------------------------------------------\u001b[0m",
      "\u001b[0;31mValueError\u001b[0m                                Traceback (most recent call last)",
      "\u001b[1;32m/Users/seydoux/Documents/Enseignement/Scientific Computing for Geophysical Problems/Lectures Markdown/sources/infrasound.ipynb Cell 2\u001b[0m in \u001b[0;36m<cell line: 10>\u001b[0;34m()\u001b[0m\n\u001b[1;32m      <a href='vscode-notebook-cell:/Users/seydoux/Documents/Enseignement/Scientific%20Computing%20for%20Geophysical%20Problems/Lectures%20Markdown/sources/infrasound.ipynb#W1sZmlsZQ%3D%3D?line=7'>8</a>\u001b[0m start \u001b[39m=\u001b[39m obspy\u001b[39m.\u001b[39mUTCDateTime(\u001b[39m2020\u001b[39m, \u001b[39m1\u001b[39m, \u001b[39m1\u001b[39m, \u001b[39m1\u001b[39m)\n\u001b[1;32m      <a href='vscode-notebook-cell:/Users/seydoux/Documents/Enseignement/Scientific%20Computing%20for%20Geophysical%20Problems/Lectures%20Markdown/sources/infrasound.ipynb#W1sZmlsZQ%3D%3D?line=8'>9</a>\u001b[0m end \u001b[39m=\u001b[39m obspy\u001b[39m.\u001b[39mUTCDateTime(\u001b[39m2020\u001b[39m, \u001b[39m1\u001b[39m, \u001b[39m1\u001b[39m, \u001b[39m2\u001b[39m)\n\u001b[0;32m---> <a href='vscode-notebook-cell:/Users/seydoux/Documents/Enseignement/Scientific%20Computing%20for%20Geophysical%20Problems/Lectures%20Markdown/sources/infrasound.ipynb#W1sZmlsZQ%3D%3D?line=9'>10</a>\u001b[0m stream \u001b[39m=\u001b[39m client\u001b[39m.\u001b[39;49mget_waveforms(network\u001b[39m=\u001b[39;49m\u001b[39m\"\u001b[39;49m\u001b[39mIM\u001b[39;49m\u001b[39m\"\u001b[39;49m, station\u001b[39m=\u001b[39;49m\u001b[39m\"\u001b[39;49m\u001b[39mI04H1\u001b[39;49m\u001b[39m\"\u001b[39;49m, location\u001b[39m=\u001b[39;49m\u001b[39m\"\u001b[39;49m\u001b[39m*\u001b[39;49m\u001b[39m\"\u001b[39;49m, channel\u001b[39m=\u001b[39;49m\u001b[39m\"\u001b[39;49m\u001b[39m*\u001b[39;49m\u001b[39m\"\u001b[39;49m, starttime\u001b[39m=\u001b[39;49mstart, endtime\u001b[39m=\u001b[39;49mend)\n",
      "File \u001b[0;32m~/Documents/Work/anaconda/envs/scientific_computing/lib/python3.10/site-packages/obspy/clients/fdsn/client.py:851\u001b[0m, in \u001b[0;36mClient.get_waveforms\u001b[0;34m(self, network, station, location, channel, starttime, endtime, quality, minimumlength, longestonly, filename, attach_response, **kwargs)\u001b[0m\n\u001b[1;32m    849\u001b[0m \u001b[39mif\u001b[39;00m \u001b[39m\"\u001b[39m\u001b[39mdataselect\u001b[39m\u001b[39m\"\u001b[39m \u001b[39mnot\u001b[39;00m \u001b[39min\u001b[39;00m \u001b[39mself\u001b[39m\u001b[39m.\u001b[39mservices:\n\u001b[1;32m    850\u001b[0m     msg \u001b[39m=\u001b[39m \u001b[39m\"\u001b[39m\u001b[39mThe current client does not have a dataselect service.\u001b[39m\u001b[39m\"\u001b[39m\n\u001b[0;32m--> 851\u001b[0m     \u001b[39mraise\u001b[39;00m \u001b[39mValueError\u001b[39;00m(msg)\n\u001b[1;32m    853\u001b[0m locs \u001b[39m=\u001b[39m \u001b[39mlocals\u001b[39m()\n\u001b[1;32m    854\u001b[0m setup_query_dict(\u001b[39m'\u001b[39m\u001b[39mdataselect\u001b[39m\u001b[39m'\u001b[39m, locs, kwargs)\n",
      "\u001b[0;31mValueError\u001b[0m: The current client does not have a dataselect service."
     ]
    }
   ],
   "source": [
    "# coding: utf-8\n",
    "\n",
    "import obspy\n",
    "\n",
    "from obspy.clients.fdsn import Client\n",
    "\n",
    "client = Client(\"IRIS\")\n",
    "start = obspy.UTCDateTime(2020, 1, 1, 1)\n",
    "end = obspy.UTCDateTime(2020, 1, 1, 2)\n",
    "stream = client.get_waveforms(network=\"IM\", station=\"I04H1\", location=\"*\", channel=\"*\", starttime=start, endtime=end)\n",
    "# print(Client)\n"
   ]
  }
 ],
 "metadata": {
  "kernelspec": {
   "display_name": "Python 3.10.6 ('scientific_computing')",
   "language": "python",
   "name": "python3"
  },
  "language_info": {
   "codemirror_mode": {
    "name": "ipython",
    "version": 3
   },
   "file_extension": ".py",
   "mimetype": "text/x-python",
   "name": "python",
   "nbconvert_exporter": "python",
   "pygments_lexer": "ipython3",
   "version": "3.10.6"
  },
  "orig_nbformat": 4,
  "vscode": {
   "interpreter": {
    "hash": "a41af5d3c6566f72458df644874e80e2f0fb14f6983016ff4dfaa9ae44ef2b04"
   }
  }
 },
 "nbformat": 4,
 "nbformat_minor": 2
}
