{
 "cells": [
  {
   "cell_type": "markdown",
   "metadata": {},
   "source": [
    "# The secular variation of the Earth's magnetic field from observatory data\n",
    "\n",
    "\n",
    "_Made by Alexandre Fournier (fournier@ipgp.fr), modified by Léonard Seydoux (seydoux@ipgp.fr) in 2023 for the course \"Scientific Computing for Geophysical Problems\" at the [institut de physique du globe de Paris](http://www.ipgp.fr)._\n",
    "\n",
    "\n",
    "<img width=200px src=\"https://upload.wikimedia.org/wikipedia/fr/thumb/1/16/Institut_de_physique_du_globe_de_paris_logo.svg/1200px-Institut_de_physique_du_globe_de_paris_logo.svg.png\" />\n",
    "\n",
    "## Table of contents\n",
    "\n",
    "1. Introduction\n",
    "    - 1.1. Goal of the practical\n",
    "    - 1.2. Theoretical background\n",
    "2. The forward problem\n",
    "    - 2.1. The model vector\n",
    "    - 2.2. The data vector\n",
    "    - 2.3. The forward matrix\n",
    "    - 2.4. Implementation of the forward problem\n",
    "3. The data\n",
    "    - 3.1. Presentation\n",
    "    - 3.2. The list of observatories\n",
    "    - 3.3. The monthly values of the secular variation\n",
    "4. The inverse problem\n",
    "    - 4.1. Definition\n",
    "    - 4.2. The least-squares solution\n",
    "    - 4.3. The regularized least-squares solution\n",
    "5. Adding the external field\n",
    "\n",
    "### 1.1. Goal of the practical\n",
    "\n",
    "The aim of this practical is to produce an acceptable spherical harmonic representation of the secular variation of the geomagnetic field using records from magnetic observatories for a specified date.\n",
    "\n",
    "This problem holds both fundamental and practical interest. It's fundamental because the secular variation offers insights into the dynamic processes happening inside the Earth's liquid outer core, where the primary source of the geomagnetic field — the geodynamo — resides. It's practical since understanding the secular variation allows us to predict how the geomagnetic field might change in the near future using simple linear extrapolation."
   ]
  },
  {
   "cell_type": "markdown",
   "id": "f2fdec47",
   "metadata": {},
   "source": [
    "### 1.2. Theoretical background\n",
    "\n",
    "The magnetic field ${\\mathbf B}$ can be described using a spherical harmonic expansion. This expansion uses Gauss coefficients $g_\\ell^m$ and $h_\\ell^m$ for the internal field $V_i(r, \\theta, \\varphi)$, and equivalently denoted $q_\\ell^m$ and $s_\\ell^m$ for the external field $V_e(r, \\theta, \\varphi)$, where $\\ell$ is the degree and $m$ the order of the spherical harmonic. The total geomagnetic potential $V(r,\\theta,\\varphi)$ in an insulating region can be written as\n",
    "\n",
    "$$\n",
    "V(r,\\theta,\\varphi) = V_i(r,\\theta,\\varphi) +  V_e(r,\\theta,\\varphi), \n",
    "$$\n",
    "\n",
    "with the internal and external potentials given by\n",
    "\n",
    "$$\n",
    "\\begin{align*}\n",
    "V_i(r,\\theta,\\varphi) = &\\quad R \\sum_{\\ell=1}^{L}  \\left( \\frac{R}{r} \\right)^{\\ell+1} &\\sum_{m=0}^{\\ell}  \\left( g_\\ell^m  \\cos m \\varphi + h_\\ell^m\\sin m \\varphi \\right) {\\mathcal P}_\\ell^m \\left( \\cos \\theta \\right), \\\\\n",
    "V_e(r,\\theta,\\varphi) = &\\quad R \\sum_{\\ell=1}^{L_e} \\left( \\frac{r}{R} \\right)^{\\ell} &\\sum_{m=0}^{\\ell} \\left(q_\\ell^m \\cos m \\varphi + s_\\ell^m \\sin m\\varphi \\right) {\\mathcal P}_\\ell^m \\left( \\cos \\theta  \\right),\n",
    "\\end{align*}\n",
    "$$\n",
    "\n",
    "in which $r$, $\\theta$, and $\\varphi$ denote the standard spherical coordinates, $R=$ 6371.2 km is the mean radius of the Earth, $L$ is the truncation of the spherical harmonic expansion of the internal sources, and $L_e$ the truncation of the expansion of the external sources. The ${\\mathcal P}_\\ell^m$ are the associated Legendre functions of degree $\\ell$ and order $m$, whose normalization is subject to the Schmidt convention, which is commonly used in geomagnetism. \n",
    "\n",
    "Within the insulating region we are focusing on, between the core-mantle boundary and a few tens of km above  the surface of Earth, we have $\\mathbf{B} = -\\mathbf{\\nabla} V$, leading to\n",
    "\n",
    "$$\n",
    "\\begin{align*}\n",
    "X &=& -B_\\theta &=&\\frac{1}{r}\\frac{\\partial V}{\\partial \\theta },\\\\\n",
    "Y &=& B_\\varphi &= &-\\frac{1}{r\\sin\\theta}\\frac{\\partial V}{\\partial \\varphi },\\\\\n",
    "Z &=& -B_r &= &\\frac{\\partial V}{\\partial r }, \n",
    "\\end{align*}\n",
    "$$\n",
    "\n",
    "where $X$, $Y$ and $Z$ denote the north, east, and vertical components of $\\mathbf{B}$, respectively. The time rate-of-change of $\\mathbf{B}$, noted $\\dot{\\mathbf{B}}$, which we are intested in, is therefore controlled by the rate of change of the Gauss coefficients, denoted with $(\\dot{g}_\\ell^m, \\dot{h}_\\ell^m)$ and $(\\dot{q}_\\ell^m, \\dot{s}_\\ell^m)$  henceforth."
   ]
  },
  {
   "cell_type": "markdown",
   "metadata": {},
   "source": [
    "## 2. The forward problem\n",
    "\n",
    "### 2.1. The model vector\n",
    "\n",
    "At first, we will neglect the external field and restrict our attention to a model vector consisting of the $(\\dot{g}_\\ell^m, \\dot{h}_\\ell^m)$. More precisely, we define the column vector $\\mathbf{m}$ with the coefficients of the internal field as\n",
    "\n",
    "$$\n",
    "\\mathbf{m} \\coloneqq \\left(\\dot{g}_1^0, \\dot{g}_1^1, \\dot{h}_1^1, \\dot{g}_2^0, \\dot{g}_2^1, \n",
    "                   \\dot{h}_2^1, \\dot{g}_2^2, \\dot{h}_2^2, \n",
    "                  \\dots, \\dot{g}_L^L, \\dot{h}_L^L\\right)^\\mathsf{T}, \n",
    "$$\n",
    "\n",
    "in which $v^\\mathsf{T}$ denotes the transpose of the vector $v$. This relatively compact notation aligns with the _International Geomagnetic Reference Field_ (IGRF) convention, as detailed in sources like [this reference paper](https://earth-planets-space.springeropen.com/articles/10.1186/s40623-020-01288-x). We will denote by $M$ the number of elements in the model vector $\\mathbf{m}$.\n",
    "\n",
    "> __Question 1.__ Referring to the previously mentioned equation for the internal potential  $V_i(r, \\theta, \\varphi)$ given above, how would you determine the number of elements $M$ in the column vector $\\mathbf{m}$ based on the expansion truncation index $L$? \n",
    "\n",
    "### 2.2. The data vector\n",
    "\n",
    "The data vector $\\mathbf{d}$ is a column vector containing the north, east, and vertical components of the rate-of-change of the field, $\\dot{\\mathbf{B}}$, at a location. We will denote the components of $\\mathbf{d}$ as $\\dot{X}$, $\\dot{Y}$, and $\\dot{Z}$, respectively. The data vector is therefore defined as\n",
    "\n",
    "$$\n",
    "\\mathbf{d} \\coloneqq \\left(\\dot{X}, \\dot{Y}, \\dot{Z}\\right)^\\mathsf{T} \\in \\mathbb{R}^3.\n",
    "$$\n",
    "\n",
    "### 2.3. The forward matrix\n",
    "\n",
    "The forward problem here refers to the mapping between this set of coefficients and a triplet of measurements of the north, east, or vertical components of the rate-of-change of the field, $\\dot{\\mathbf{B}}$,  at a location. This can be written in the algebraic form as\n",
    "\n",
    "$$\n",
    "\\mathbf{d} = \\mathbf{A} \\mathbf{m} \\quad \\Longrightarrow \\quad\n",
    "\\left( \n",
    "\\begin{array}{c}\n",
    "\\dot{X} \\\\\n",
    "\\dot{Y} \\\\\n",
    "\\dot{Z}\n",
    "\\end{array} \\right) \n",
    "=\n",
    "\\left( \n",
    "\\begin{array}{c}\n",
    "\\mathbf{A}_X  \\\\\n",
    "\\mathbf{A}_Y  \\\\\n",
    "\\mathbf{A}_Z\n",
    "\\end{array}\n",
    "\\right) \\mathbf{m},  \n",
    "$$\n",
    "\n",
    "where each row ($\\mathbf{A}_X$,  $\\mathbf{A}_Y$ and $\\mathbf{A}_Z$) of the matrix $\\mathbf{A}$ (hereafter referred to as the _forward matrix_) corresponds to the mapping between the model vector $\\mathbf{m}$ and the data vector $\\mathbf{d}$ for each component of the field. It has the same dimension as $\\mathbf{m}$, and is a function of the observation location $(r_\\mathrm{obs}, \\theta_\\mathrm{obs}, \\varphi_\\mathrm{obs})$ defined the observatory's location. The problem can be written this way because the problem is a linear one.\n"
   ]
  },
  {
   "cell_type": "markdown",
   "metadata": {},
   "source": [
    "\n",
    "### 2.4. Implementation of the forward problem for a single component\n",
    "\n",
    "The Python module `geomag.py` comprises a series of functions that return ($\\mathbf{A}_X$,  $\\mathbf{A}_Y$ or $\\mathbf{A}_Z$), provided you feed them with a location in spherical coordinates $(r, \\theta, \\varphi)$ with the radius $r\\in ]0, +\\inf[$ in km, the colatitude $\\theta \\in [0, 180]$ and the longitude $\\varphi \\in [0, 360]$ in degrees. For example, the piece of code below shows how the `forward_matrix` function can be used to map a user-defined $\\mathbf{m}$ into a global map of the secular variation over a regular grid at radius $r=R$. \n",
    "\n",
    "_Prior to going further, make sure that the imports below work on your computer._"
   ]
  },
  {
   "cell_type": "code",
   "execution_count": 1,
   "metadata": {},
   "outputs": [],
   "source": [
    "import matplotlib.pyplot as plt\n",
    "import numpy as np\n",
    "import pandas as pd\n",
    "\n",
    "import geomag"
   ]
  },
  {
   "cell_type": "markdown",
   "id": "f3ee21d8",
   "metadata": {},
   "source": [
    "We will evaluate this function on a regular grid of points on the surface of the Earth, and plot the results using the `matplotlib` library. This can be done using the `np.meshgrid` function, as shown below."
   ]
  },
  {
   "cell_type": "code",
   "execution_count": 2,
   "id": "cc794e3c",
   "metadata": {},
   "outputs": [],
   "source": [
    "# Create colatitude and longitude arrays for a grid of points\n",
    "# over the surface of the Earth.\n",
    "GRID_RESOLUTION_IN_DEGREES = 3\n",
    "colatitude = np.arange(1, 180, GRID_RESOLUTION_IN_DEGREES)\n",
    "longitude = np.arange(0, 360, GRID_RESOLUTION_IN_DEGREES)\n",
    "n_colatitudes = len(colatitude)\n",
    "n_longitudes = len(longitude)\n",
    "radius = 6371.2\n",
    "\n",
    "# Turn into grid\n",
    "longitudes, colatitudes = np.meshgrid(longitude, colatitude)\n",
    "radii = radius * np.ones_like(colatitudes)\n",
    "\n",
    "# Flatten the arrays\n",
    "grid = np.vstack(\n",
    "    (radii.flatten(), colatitudes.flatten(), longitudes.flatten())\n",
    ").T\n",
    "n_points = grid.shape[0]"
   ]
  },
  {
   "cell_type": "markdown",
   "id": "53de6534",
   "metadata": {},
   "source": [
    "Once we have a regular grid of points, we can evaluate the forward problem at each point of the grid. This is done using the `forward_matrix` function, which returns the three components of the field at a given location, given a set of Gauss coefficients, and for a given component (`X`, `Y`, or `Z`). Note that the function is NOT vectorized, meaning that it can only be used to evaluate the field at one location at a time. This is why we need to loop over the grid points to evaluate the field at each point.\n",
    "\n",
    "Note that the forward problem here reduces to the computation of a single component, meaning that we will calculate only $\\dot{Z}$ such as \n",
    "\n",
    "$$\n",
    "\\dot{Z} = \\mathbf{A}_Z \\mathbf{m}.\n",
    "$$"
   ]
  },
  {
   "cell_type": "code",
   "execution_count": 3,
   "id": "1e1929da",
   "metadata": {},
   "outputs": [
    {
     "name": "stdout",
     "output_type": "stream",
     "text": [
      "Number of points in grid: 7200\n",
      "Number of coefficients: 80\n",
      "Shape of forward matrix: (7200, 80)\n"
     ]
    }
   ],
   "source": [
    "# Get the forward matrix for each point in the grid\n",
    "forward_matrix = np.zeros((n_points, geomag.N_COEFFICIENTS))\n",
    "for index, point in enumerate(grid):\n",
    "    forward_matrix[index, :] = geomag.forward_matrix(*point, component=\"z\")\n",
    "\n",
    "print(\"Number of points in grid:\", n_points)\n",
    "print(\"Number of coefficients:\", geomag.N_COEFFICIENTS)\n",
    "print(\"Shape of forward matrix:\", forward_matrix.shape)"
   ]
  },
  {
   "cell_type": "markdown",
   "id": "2c16e23a",
   "metadata": {},
   "source": [
    "Now, we can use the forward matrix to evaluate the field at each point of the grid. We therefore need to define a model vector $\\mathbf{m}$ and apply the forward matrix to it to obtain the field at each point of the grid. The code below shows how this can be done."
   ]
  },
  {
   "cell_type": "code",
   "execution_count": 4,
   "id": "62e5ab80",
   "metadata": {},
   "outputs": [
    {
     "data": {
      "image/png": "[encoded data removed]",
      "text/plain": [
       "<Figure size 640x480 with 2 Axes>"
      ]
     },
     "metadata": {},
     "output_type": "display_data"
    }
   ],
   "source": [
    "# Define the model vector\n",
    "model = np.zeros(geomag.N_COEFFICIENTS)\n",
    "lm = -1\n",
    "for l in range(1, geomag.MAX_DEGREE + 1):\n",
    "    for m in range(0, l + 1):\n",
    "        if m == 0:\n",
    "            lm = lm + 1\n",
    "            if l == 1:\n",
    "                # Axial dipole\n",
    "                model[lm] = -10\n",
    "        elif m > 0:\n",
    "            lm = lm + 1\n",
    "\n",
    "            # Get the g\n",
    "            if l == 2 and m == 1:\n",
    "                model[lm] = -4\n",
    "            lm = lm + 1\n",
    "\n",
    "            # Get the h\n",
    "            if l == 1 and m == 1:  \n",
    "                # Equatorial dipole\n",
    "                model[lm] = -4\n",
    "            if l == 5 and m == 5:\n",
    "                model[lm] = 3\n",
    "\n",
    "# Compute the forward model\n",
    "data = np.dot(forward_matrix, model)\n",
    "\n",
    "# Plot\n",
    "ax = geomag.plot_field(colatitude, longitude, data)\n",
    "ax.set_title(\"Secular Variation $\\dot Z$ at Earth's Surface\")\n",
    "\n",
    "# Show\n",
    "plt.show()"
   ]
  },
  {
   "cell_type": "markdown",
   "metadata": {},
   "source": [
    "Now we can explore the possibilities of the function `forward_matrix` by looking at other components of the field. First, take a look at the documentation of the function `forward_matrix`. You can do it either by running `?forward_matrix` in a cell, or by looking at the source code of the function in the `geomag.py` file.\n",
    "\n",
    "> **Question 2.** In the cell below, create a new code inspired from the cells above to plot the north component of the secular variation $\\dot{X}$ at the surface of the Earth for the same model vector $\\mathbf{m}$."
   ]
  },
  {
   "cell_type": "code",
   "execution_count": 5,
   "metadata": {},
   "outputs": [],
   "source": [
    "# Your code codes here"
   ]
  },
  {
   "cell_type": "markdown",
   "metadata": {},
   "source": [
    "\n",
    "\n",
    "> **Question 3.** Thanks to your newly acquired expertise, create a new code inspired from the cells above to plot the vertical component of the secular variation $\\dot{X}$ at the surface of the core for the same model vector $\\mathbf{m}$. Take the radius of the core equal to $3485$ km. What do you observe, and why?"
   ]
  },
  {
   "cell_type": "code",
   "execution_count": 6,
   "metadata": {},
   "outputs": [],
   "source": [
    "# Your code codes here"
   ]
  },
  {
   "cell_type": "markdown",
   "metadata": {},
   "source": [
    "> **Question 4:**  In the cell below, insert a piece of code that calculates and plots $\\dot{X}$, $\\dot{Y}$ and $\\dot{Z}$ at the Earth's surface for an axial quadrupole $\\dot{g}_2^0=$ -3 nT/year, with all other coefficients being $0$.\n",
    "We will refer to this model vector $\\mathbf{m}$ as $\\mathbf{m}_g$ in the following."
   ]
  },
  {
   "cell_type": "code",
   "execution_count": 7,
   "metadata": {},
   "outputs": [],
   "source": [
    "# Your code codes here"
   ]
  },
  {
   "cell_type": "markdown",
   "metadata": {},
   "source": [
    "## 3. The data\n",
    "\n",
    "### 3.1. Presentation\n",
    "\n",
    "The monthly values of $\\dot{X}$, $\\dot{Y}$ and $\\dot{Z}$ have been compiled in [Wardinski et al. (2012)](https://academic.oup.com/gji/article/189/3/1409/610042) for a number of observatories, between years 1957 and 2013 (approximately). Note that not all observatories have continuous records: some records are actually very sparse in time.\n",
    "\n",
    "### 3.2. The list of observatories\n",
    "\n",
    "The file `data/observatories.txt` contains information about the observatories. The first row of this file indicates the title of each column. The columns are:\n",
    "\n",
    "- `index`: the observatory index, ranging from 1 to the total number of observatories\n",
    "- `code`: the observatory code, as a 3-letter string which correspond to a place on Earth (e.g. `ESK` for Eskdalemuir, UK)\n",
    "- `colatitude`: the colatitude of the observatory in degrees, ranging from 0 to 180\n",
    "- `longitude`: the longitude of the observatory in degrees, ranging from 0 to 360\n",
    "- `radius`: the elevation of the observatory in km\n",
    "\n",
    "> __Question 5.__ In the cell below, read the file `data/observatories.txt` and store the content of the file in a variable named `observatories`. You can use either the Numpy or the Pandas package to do so. Beforehand, be aware of the delimiter used in the file (comma, space, tab, etc.). Display a map of the observatories using the `plot` function defined in the `geomag.py` module. Please check the documentation of this function to see how to use it.  What is the total number of observatories in the database? What is the three-letter code of the observatory located at the highest elevation? And the position?"
   ]
  },
  {
   "cell_type": "code",
   "execution_count": 8,
   "id": "9a43a3de",
   "metadata": {},
   "outputs": [],
   "source": [
    "# Read the file\n",
    "observatories = pd.read_csv(\"data/observatories.txt\", sep=\" \", index_col=0)\n",
    "\n",
    "# What's next? "
   ]
  },
  {
   "cell_type": "markdown",
   "metadata": {},
   "source": [
    "### 3.3. The monthly values of the secular variation\n",
    "\n",
    "The file `data/monthly_mean_secular_variation.in` contains the monthly values of $\\dot{X}$, $\\dot{Y}$ and $\\dot{Z}$ for each observatory. The first row of this file indicates the title of each column. The columns are:\n",
    "\n",
    "- `index`: the observatory index\n",
    "- `year`: the decimal year of the measurement\n",
    "- `colatitude`: the colatitude of the observatory in degrees\n",
    "- `longitude`: the longitude of the observatory in degrees\n",
    "- `radius`: the elevation of the observatory in km\n",
    "- `x_dot`: the north component of the secular variation in nT/year\n",
    "- `y_dot`: the east component of the secular variation in nT/year\n",
    "- `z_dot`: the vertical component of the secular variation in nT/year\n",
    "\n",
    "> __Question 6.__ Read the file `data/monthly_mean_secular_variation.in` and store the content of the file in a variable named `observations`. You can use either the Numpy or the Pandas package to do so. Select the observatory which code is `NGK` and plot the observed secular variation of the geomagnetic field at this location. You should observe that the secular variation is sort of piecewise linear with an abrupt change in 1970 called a _geomagnetic churk_. These changes reflect waves propagating in the core submitted to the Coriolis and Lorentz forces."
   ]
  },
  {
   "cell_type": "code",
   "execution_count": 9,
   "metadata": {},
   "outputs": [],
   "source": [
    "OBSERVATORY = \"NGK\"\n",
    "\n",
    "# Read the observatory data\n",
    "filename = \"data/monthly_mean_secular_variation.in\"\n",
    "observations = pd.read_csv(filename, sep=\" \", index_col=0)\n",
    "\n",
    "# What's next?"
   ]
  },
  {
   "cell_type": "markdown",
   "id": "8bfb1251",
   "metadata": {},
   "source": [
    "> __Question 7.__ Write a function that collects all the available data measurements at a given date (with a user-defined tolerance). For instance, consider the date 1974.67 with a tolerance of $\\pm$ one week. Show a map with all working observatories at that date. How many observatories are working at that date? Bonus: using the `geomag.scatter` function, plot the secular variation at each observatory at that date."
   ]
  },
  {
   "cell_type": "code",
   "execution_count": 10,
   "metadata": {},
   "outputs": [],
   "source": [
    "YEAR = 1991\n",
    "TOLERANCE = 1 / 52\n",
    "\n",
    "# Get the data for the observatory\n",
    "mask = np.abs(observations.year - YEAR) < TOLERANCE\n",
    "data = observations[mask]\n",
    "\n",
    "# What's next?"
   ]
  },
  {
   "cell_type": "markdown",
   "metadata": {},
   "source": [
    "## 4. The inverse problem\n",
    "\n",
    "### 4.1. Definition\n",
    "\n",
    "Given the observation vector $\\mathbf{d}$ that you can collect at a given date, your goal is first to seek the optimal model $\\mathbf{m}^*$ that will minimize the quadratic functional $J(\\mathbf{m})$ defined as\n",
    "\n",
    "$$\n",
    "J(\\mathbf{m}) = (\\mathbf{d}-\\mathbf{A}\\mathbf{m})^\\mathsf{T} \\mathbf{W} (\\mathbf{d}-\\mathbf{A}\\mathbf{m}), \n",
    "$$\n",
    "\n",
    "that quantifies the departure from predictions made with the model from the actual observations. The weight matrix $\\mathbf{W}$ reflects the uncertainties affecting each datum. The matrix $\\mathbf{W}$ can be defined manually using the `weights_matrix` function of the `geomag.py` module. This matrix is diagonal and each of its diagonal element is equal to $1/\\sigma^2$ where $\\sigma$ is the standard deviation reflecting the uncertainty in the datum (its variance is therefore equal to $\\sigma^2$). For a start, we will take the same value for each datum, $\\sigma=1$ nT/yr."
   ]
  },
  {
   "cell_type": "markdown",
   "metadata": {},
   "source": [
    "### 4.2. First attempt\n",
    "\n",
    "> __Question 9.__ Assemble the data vector for an epoch of your choice. What dimension does it have? Define the weight matrix $\\mathbf{W}$ and the matrix $\\mathbf{A}$ for the same epoch. What dimension do they have? "
   ]
  },
  {
   "cell_type": "code",
   "execution_count": 11,
   "metadata": {},
   "outputs": [],
   "source": [
    "# Your code codes here"
   ]
  },
  {
   "cell_type": "markdown",
   "id": "4312d094",
   "metadata": {},
   "source": [
    "> __Question 10.__ We can now evaluate the residuals with a first attempt (naive) by considering the model vector $\\mathbf{m}_g$ defined in Question 4.  The residuals are defined as\n",
    "> $$\n",
    "> \\mathbf{r} = \\mathbf{d} - \\mathbf{A}\\mathbf{m}_g,\n",
    "> $$\n",
    "> and also evaluate the cost $J(\\mathbf{m}_g)$ from the original expression of this functionnal given above. What dimension does the residual vector $\\mathbf{r}$ have? What dimension does the cost $J(\\mathbf{m}_g)$ have?"
   ]
  },
  {
   "cell_type": "code",
   "execution_count": 12,
   "id": "5103842b",
   "metadata": {},
   "outputs": [],
   "source": [
    "# Your code codes here"
   ]
  },
  {
   "cell_type": "markdown",
   "metadata": {},
   "source": [
    "> __Question 11.__ We note that the residuals are obtained for every components of the field. We can also look at the residuals for each component separately. In the cell below, write a code that allows you to compute the residuals for each component of the field separately, and for all components at once. What is the cost for each component of the field? What is the total cost? What do you observe?"
   ]
  },
  {
   "cell_type": "code",
   "execution_count": 13,
   "metadata": {},
   "outputs": [],
   "source": [
    "# Your code codes here"
   ]
  },
  {
   "cell_type": "markdown",
   "metadata": {},
   "source": [
    "### 4.3. The least-squares solution\n",
    "\n",
    "The optimal model $\\mathbf{m}^*$ is the one that minimizes the quadratic functional $J(\\mathbf{m})$. In other words, it is the one that satisfies the following equation:\n",
    "\n",
    "$$\n",
    "\\left. \\frac{\\partial J}{\\partial \\mathbf{m}} \\right|_{\\mathbf{m}=\\mathbf{m}^*} = 0.\n",
    "$$ \n",
    "\n",
    "> __Question 12.__ We consider the truncation degree for the internal field equal $L=$ 8. Is the problem you are looking at over- or under-determined? If it is under-determined, consider changing the epoch to collect more data points. Next, derive the algebraic expression of $\\mathbf{m}^*$, and write a code in the cell below to compute $J(\\mathbf{m}^*)$."
   ]
  },
  {
   "cell_type": "code",
   "execution_count": 14,
   "metadata": {},
   "outputs": [],
   "source": [
    "# Your code codes here"
   ]
  },
  {
   "cell_type": "markdown",
   "metadata": {},
   "source": [
    "> **Question 13.** Based on the set of example codes that you already wrote and executed, plot the correspond $\\dot{Z}$ at the surface of the Earth and at the surface of the core ($r=3485$ km) by evaluating the forward matrix at the optimal model $\\mathbf{m}^*$ you just computed for each point of the regular grid. "
   ]
  },
  {
   "cell_type": "code",
   "execution_count": 15,
   "metadata": {},
   "outputs": [],
   "source": [
    "# Your code codes here"
   ]
  },
  {
   "cell_type": "markdown",
   "metadata": {},
   "source": [
    "> **Question 14:** Comment on the aspects of  $\\dot{Z}$ at the surface of the core."
   ]
  },
  {
   "cell_type": "markdown",
   "metadata": {},
   "source": [
    "> **Question 15:** Compute the residuals and analyze their distribution, on a component-by-component basis $(\\dot{X}, \\dot{Y}, \\dot{Z})$. Which component appears to be the most challenging to model using our current strategy?"
   ]
  },
  {
   "cell_type": "code",
   "execution_count": 16,
   "metadata": {},
   "outputs": [],
   "source": [
    "# Your code codes here"
   ]
  },
  {
   "cell_type": "markdown",
   "metadata": {},
   "source": [
    "### 4.4. The regularized least-squares solution\n",
    "\n",
    "We now seek a regularized solution to the problem at hand. This is a standard approach followed in geophysics. The squared norm of the secular variation noted $\\mathcal R$ over a sphere $\\mathcal{S}(r)$ of radius $r$ is defined as \n",
    "\n",
    "$$\n",
    "\\mathcal R = \\int_{S(r)} \\|\\dot{\\mathbf{B}}\\|^2 {\\mathrm d} \\Omega\n",
    "$$\n",
    "\n",
    "This quantity can be conveniently expressed using the Gauss coefficients (see for instance the reference book \"Foundations of Geomagnetism\" by Backus et al. 1996 Cambridge University, ISBN 9780521410069) as follows:\n",
    "\n",
    "$$\n",
    "\\mathcal R = \\sum_{\\ell=1}^L \\left(\\ell+1\\right) \\left(\\frac{a}{r} \\right)^{2\\ell+4} \\sum_{m=0}^{\\ell}\n",
    "              \\left[(\\dot{g}_\\ell^m)^2+(\\dot{h}_\\ell^m)^2\\right] = \\sum_{\\ell = 1}^L \\mathcal R_{\\ell},\n",
    "$$\n",
    "\n",
    "where the last part shows that the norm is the sum of the norm of each spherical harmonic component $\\mathcal R_{\\ell}$, where $\\ell$ is the degree of the harmonic, and the expression of $\\mathcal R_{\\ell}$ is given by\n",
    "$$\n",
    "\\mathcal R_{\\ell} = \\left(\\ell+1\\right) \\left(\\frac{a}{r} \\right)^{2\\ell+4} \\sum_{m=0}^{\\ell}\n",
    "              \\left[(\\dot{g}_\\ell^m)^2+(\\dot{h}_\\ell^m)^2\\right]\n",
    "$$\n",
    "\n",
    "In algebraic form, this can be written directly with the following matrix product:\n",
    "\n",
    "$$\n",
    "\\mathcal R = \\mathbf{m}^\\mathsf{T} \\mathbf{D} \\mathbf{m}, \n",
    "$$\n",
    "\n",
    "in which $\\mathbf{D}$ is the matrix returned by the `damping_matrix` function of the `geomag.py` module. Here, $\\mathbf{D}$ stands for damping. The function `damping_matrix` expects two arguments: the size of $\\mathbf{m}$ (number of coefficients) and the radius $r$ where the norm is to be computed (in km). Finally, to regularize the solution we seek, we add a second term (a damping term) to the definition of the objective function\n",
    "\n",
    "$$\n",
    "J(\\mathbf{m}) = (\\mathbf{d}-\\mathbf{A}\\mathbf{m})^\\mathsf{T} \\mathbf{W} (\\mathbf{d}-\\mathbf{A}\\mathbf{m}) + \\lambda \\mathbf{m}^\\mathsf{T} \\mathbf{D} \\mathbf{m}, \n",
    "$$\n",
    "\n",
    "where  we see that the _amount of regularization_ is controlled by the amplitude of the scalar $\\lambda \\ge 0$. In the following we will regularize the secular variation either at the Earth's surface ($r=6371.2$ km when defining $\\mathbf{D}$) or at the core-mantle boundary ($r=3485$ km)."
   ]
  },
  {
   "cell_type": "markdown",
   "metadata": {},
   "source": [
    "> **Question 16:** Compute the norm of your previous optimal solution from Question 15, $\\mathbf{m}^*$, at the surface of the Earth and at the surface of the core. Do not forget the units when providing the two answers. "
   ]
  },
  {
   "cell_type": "code",
   "execution_count": 17,
   "metadata": {},
   "outputs": [],
   "source": [
    "# Your code codes here"
   ]
  },
  {
   "cell_type": "markdown",
   "metadata": {},
   "source": [
    "> **Question 17:** Derive the algebraic expression of the new optimal $\\mathbf{m}$, named $\\mathbf{m}_R$ corresponding to the objective function defined in the regularized least-squares problem.\n",
    "> \n",
    "> We write $\\mathbf{D}=(D_{m,n})_{0\\leqslant m,n \\leqslant M-1}$."
   ]
  },
  {
   "cell_type": "markdown",
   "metadata": {},
   "source": [
    "> **Question 18:** Write a python function that computes and returns this new optimum, for an arbitrary value of $\\lambda$, and an arbitrary radius of regularization."
   ]
  },
  {
   "cell_type": "code",
   "execution_count": 18,
   "metadata": {},
   "outputs": [],
   "source": [
    "# Your code codes here"
   ]
  },
  {
   "cell_type": "markdown",
   "metadata": {},
   "source": [
    "Now raise your hand and call an instructor for further instructions. You are about to plot a so-called trade-off (also called \"L\") curve. For each $\\lambda$, one gets an optimal $\\mathbf{m}_R(\\lambda)$ which can be characterized by a value of the misfit to the data\n",
    "\n",
    "\\begin{equation}\n",
    "J(\\mathbf{m}_R) = (\\mathbf{d}-\\mathbf{A}\\mathbf{m}_R)^\\mathsf{T} \\mathbf{W} (\\mathbf{d}-\\mathbf{A}\\mathbf{m}_R)\n",
    "\\end{equation}\n",
    "\n",
    "and a value of the norm\n",
    "\n",
    "$$\n",
    "\\mathcal{R}_R = \\mathbf{m}_R^\\mathsf{T} \\mathbf{D} \\mathbf{m}_R.\n",
    "$$\n",
    "\n",
    "By plotting norm against the misfit for different values of $\\lambda$, you will obtain a curve that is called the trade-off curve.\n",
    "\n",
    "> **Question 19**: Plot the L-curve that correponds models obtained for your dataset, and the spectra obtained at the surface of Earth for some values of $\\lambda$.\n"
   ]
  },
  {
   "cell_type": "code",
   "execution_count": 19,
   "metadata": {},
   "outputs": [],
   "source": [
    "# Your code codes here"
   ]
  },
  {
   "cell_type": "markdown",
   "metadata": {},
   "source": [
    "> **Question 20**: Traditionally, one chooses as a best model the best compromise between misfit and complexity (norm), by picking the $\\lambda$ corresponding to the knee of the curve. Compute and represent the Z-component of the secular variation obtained with this model at the surface of the Earth and the surface of the core,  when the regularization is performed (ie the norm is computed) at the surface of the Earth. Is the distribution of residuals markedly different from the one you obtained in Question 12 ?"
   ]
  },
  {
   "cell_type": "code",
   "execution_count": 20,
   "metadata": {},
   "outputs": [],
   "source": [
    "# Your code codes here"
   ]
  },
  {
   "cell_type": "markdown",
   "metadata": {},
   "source": [
    "> **Question 24**: Repeat this exercise when the regularization is performed at the surface of the core ($r=3485$ km) or, in other words, when the matrix $\\mathbf{D}$ entering the objective function is computed for $r=3485$ km. How is the spectrum of your preferred model different from the one obtained above? Propose an interpretation for the differences.\n"
   ]
  },
  {
   "cell_type": "code",
   "execution_count": 21,
   "metadata": {},
   "outputs": [],
   "source": [
    "# Your code codes here"
   ]
  },
  {
   "cell_type": "markdown",
   "metadata": {},
   "source": [
    "## 5. Adding the external field\n",
    "\n",
    "A possibility to obtain a better fit to the data consists of adding the contribution of the external geomagnetic field to the secular variation, recall Equation (1) above. The module ${\\tt SHmag\\_wext.py}$ is an extension of ${\\tt SHmag.py}$ which allows you to resort to a model vector of the form\n",
    "\n",
    "\\begin{equation}\n",
    "\\mathbf{m} \\coloneqq \\left(\\dot{g}_1^0, \\dot{g}_1^1, \\dot{h}_1^1, \\dot{g}_2^0, \\dot{g}_2^1, \n",
    "                   \\dot{h}_2^1, \\dot{g}_2^2, \\dot{h}_2^2, \n",
    "                  \\dots, \\dot{g}_L^L, \\dot{h}_L^L, \n",
    "                  \\dot{q}_1^0, \\dot{q}_1^1, \\dot{s}_1^1, \\dot{q}_2^0, \\dot{q}_2^1, \n",
    "                   \\dot{s}_2^1, \\dot{q}_2^2, \\dot{s}_2^2, \n",
    "                  \\dots, \\dot{q}_{L_e}^{L_e}, \\dot{s}_{L_e}^{L_e}\n",
    "               \\right)^\\mathsf{T}. \n",
    "\\end{equation}\n",
    "\n",
    "In the following we will assume that $L=8$ (as before) and $L_e=1$ (we only retain the dipole component of the external field). Given the epoch that you are in charge of, your task is to produce a model of the secular variation regularized **at the surface of the core** for that epoch, based on the trade-off curve methodology discussed before. **Note that $\\mathbf{D}$ should only act on the Gauss coefficients describing the internal field (the $\\dot{g}_\\ell^m$ and $\\dot{h}_\\ell^m$)**.\n",
    "\n",
    "You are expected to produce a number of diagnostics to describe this model. These diagnostics should include (without being limited to):\n",
    " - the distribution of the residuals (and a comparison with the distribution obtained when the external field is not included in the parameterization - is there a specific component for which the improvement is really substantial?)\n",
    " - a discussion of the presence of outliers in your dataset (as evidenced by the residual distribution), the observatory where the anomalous data originate from, etc.\n",
    " - a discussion of the map obtained at the surface of the core, concerning in particular the localization of the secular variation (ie places at the surface of the core where it would be stronger than in other places) \n",
    " - the spectrum of your preferred model at the surface of the core.\n"
   ]
  },
  {
   "cell_type": "code",
   "execution_count": 22,
   "id": "01f5b2c7",
   "metadata": {},
   "outputs": [],
   "source": [
    "# Your code codes here"
   ]
  }
 ],
 "metadata": {
  "kernelspec": {
   "display_name": "Python 3",
   "language": "python",
   "name": "python3"
  },
  "language_info": {
   "codemirror_mode": {
    "name": "ipython",
    "version": 3
   },
   "file_extension": ".py",
   "mimetype": "text/x-python",
   "name": "python",
   "nbconvert_exporter": "python",
   "pygments_lexer": "ipython3",
   "version": "3.10.9"
  }
 },
 "nbformat": 4,
 "nbformat_minor": 5
}
